{
  "nbformat": 4,
  "nbformat_minor": 0,
  "metadata": {
    "colab": {
      "provenance": []
    },
    "kernelspec": {
      "name": "python3",
      "display_name": "Python 3"
    },
    "language_info": {
      "name": "python"
    }
  },
  "cells": [
    {
      "cell_type": "markdown",
      "source": [
        "1.  Describe the main differences between the CSS Flexbox layout model and the CSS Grid layout model. When would you choose to use one over the other?\n",
        "- Main Differences Between Flexbox and Grid Layout Direction\n",
        "\n",
        "Layout Direction\n",
        "- Flexbox: Works in one direction (row or column)\n",
        "- Grid: Works in two directions (rows and columns)\n",
        "\n",
        "Use Case\n",
        "- Flexbox: Good for arranging items in a line\n",
        "- Grid: Good for making a full layout (like a webpage layout)\n",
        "\n",
        "Item Control\n",
        "- Flexbox: Focuses more on content\n",
        "- Gird: Focuses more on the whole layout\n",
        "\n",
        "Simplicity\n",
        "- Flexbox: Easier for small designs\n",
        "- Grid: Better for complex layouts\n",
        "\n",
        "\n",
        "When to use Flexbox?\n",
        "- When you want to align items in a single row or column.\n",
        "- Example: Navigation bar, buttons in a line, cards in a row.\n",
        "\n",
        "When to Use Grid?\n",
        "- When you need to design a full page or complex layout with both rows and columns.\n",
        "- Example: A photo gallery, webpage with sidebar + content + footer.\n",
        "\n"
      ],
      "metadata": {
        "id": "UeHQA7RHGLyb"
      }
    },
    {
      "cell_type": "markdown",
      "source": [
        "2. Explain the role of the following key properties in the Flexbox layout model->\n",
        "i. justify-content\n",
        "ii. align-item\n",
        "iii. gap\n",
        "iv. flex-direction\n",
        "v. flex-wrap\n",
        "\n",
        "- i. justify-content:  It controls how the items are aligned horizontally (main axis). It decides the space between or around the items.\n",
        "\n",
        "ii. align-items: It controls how the items are aligned vertically (cross axis). It helps to align items top, middle or bottom of the container.\n",
        "\n",
        "iii. gap: It adds space between the items inside the flex container. Very useful instead of using margin for spacing.\n",
        "\n",
        "iv. flex-direction: It decides the direction of items – in a row or column.\n",
        "\n",
        "v. flex-wrap:  By default, items stay in one line. This property allows them to wrap to next line if there’s no space.\n"
      ],
      "metadata": {
        "id": "mCMQdIXeIbQN"
      }
    },
    {
      "cell_type": "markdown",
      "source": [
        "3. Write the code to center a div using CSS Flexbox.\n",
        "```\n",
        "<!DOCTYPE html>\n",
        "<html lang=\"en\">\n",
        "  <head>\n",
        "    <meta charset=\"UTF-8\" />\n",
        "    <meta name=\"viewport\" content=\"width=device-width, initial-scale=1.0\" />\n",
        "    <title>Document</title>\n",
        "  </head>\n",
        "  <body>\n",
        "    <div\n",
        "      style=\"\n",
        "        display: flex;\n",
        "        width: 100wh;\n",
        "        height: 100vh;\n",
        "        align-items: center;\n",
        "        justify-content: center;\n",
        "      \"\n",
        "    >\n",
        "      <div style=\"width: 300px; height: 300px; background-color: green\"></div>\n",
        "    </div>\n",
        "  </body>\n",
        "</html>\n",
        "\n",
        "```"
      ],
      "metadata": {
        "id": "L5Zd4pm7KXqQ"
      }
    },
    {
      "cell_type": "markdown",
      "source": [
        "4. A client of yours wants to add a pricing section on their website to showcase their newly introduced premium plans.\n",
        "- Live Link: [click here](https://manish99verma.github.io/pricing-project/)\n",
        "- Project Link: [click here](https://github.com/manish99verma/pricing-project)"
      ],
      "metadata": {
        "id": "GXP6D9ziKjl9"
      }
    },
    {
      "cell_type": "markdown",
      "source": [
        "5. Build a clone of the IRCTC Ticket booking page.\n",
        "- Live Link: [click here](https://manish99verma.github.io/irctc-ticket-booking-app/)\n",
        "- Project Link: [click here](https://github.com/manish99verma/irctc-ticket-booking-app)"
      ],
      "metadata": {
        "id": "iOHWrk0PTYOy"
      }
    }
  ]
}